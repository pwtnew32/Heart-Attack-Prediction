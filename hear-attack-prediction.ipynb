{
 "cells": [
  {
   "cell_type": "code",
   "execution_count": 1,
   "id": "fantastic-copper",
   "metadata": {
    "_cell_guid": "b1076dfc-b9ad-4769-8c92-a6c4dae69d19",
    "_uuid": "8f2839f25d086af736a60e9eeb907d3b93b6e0e5",
    "execution": {
     "iopub.execute_input": "2021-04-30T12:42:27.815772Z",
     "iopub.status.busy": "2021-04-30T12:42:27.814618Z",
     "iopub.status.idle": "2021-04-30T12:42:29.694295Z",
     "shell.execute_reply": "2021-04-30T12:42:29.692769Z"
    },
    "papermill": {
     "duration": 1.900966,
     "end_time": "2021-04-30T12:42:29.694542",
     "exception": false,
     "start_time": "2021-04-30T12:42:27.793576",
     "status": "completed"
    },
    "tags": []
   },
   "outputs": [],
   "source": [
    "import numpy as np\n",
    "import pandas as pd\n",
    "import matplotlib.pyplot as plt\n",
    "import seaborn as sns\n",
    "import statsmodels.api as sm\n",
    "from scipy import stats\n",
    "stats.chisqprob = lambda chisq, df: stats.chi2.sf(chisq, df)"
   ]
  },
  {
   "cell_type": "code",
   "execution_count": 2,
   "id": "collaborative-cancellation",
   "metadata": {
    "execution": {
     "iopub.execute_input": "2021-04-30T12:42:29.717576Z",
     "iopub.status.busy": "2021-04-30T12:42:29.716822Z",
     "iopub.status.idle": "2021-04-30T12:42:29.762720Z",
     "shell.execute_reply": "2021-04-30T12:42:29.763238Z"
    },
    "papermill": {
     "duration": 0.060217,
     "end_time": "2021-04-30T12:42:29.763440",
     "exception": false,
     "start_time": "2021-04-30T12:42:29.703223",
     "status": "completed"
    },
    "tags": []
   },
   "outputs": [
    {
     "data": {
      "text/html": [
       "<div>\n",
       "<style scoped>\n",
       "    .dataframe tbody tr th:only-of-type {\n",
       "        vertical-align: middle;\n",
       "    }\n",
       "\n",
       "    .dataframe tbody tr th {\n",
       "        vertical-align: top;\n",
       "    }\n",
       "\n",
       "    .dataframe thead th {\n",
       "        text-align: right;\n",
       "    }\n",
       "</style>\n",
       "<table border=\"1\" class=\"dataframe\">\n",
       "  <thead>\n",
       "    <tr style=\"text-align: right;\">\n",
       "      <th></th>\n",
       "      <th>age</th>\n",
       "      <th>sex</th>\n",
       "      <th>cp</th>\n",
       "      <th>trestbps</th>\n",
       "      <th>chol</th>\n",
       "      <th>fbs</th>\n",
       "      <th>restecg</th>\n",
       "      <th>thalach</th>\n",
       "      <th>exang</th>\n",
       "      <th>oldpeak</th>\n",
       "      <th>slope</th>\n",
       "      <th>ca</th>\n",
       "      <th>thal</th>\n",
       "      <th>target</th>\n",
       "    </tr>\n",
       "  </thead>\n",
       "  <tbody>\n",
       "    <tr>\n",
       "      <th>0</th>\n",
       "      <td>63</td>\n",
       "      <td>1</td>\n",
       "      <td>3</td>\n",
       "      <td>145</td>\n",
       "      <td>233</td>\n",
       "      <td>1</td>\n",
       "      <td>0</td>\n",
       "      <td>150</td>\n",
       "      <td>0</td>\n",
       "      <td>2.3</td>\n",
       "      <td>0</td>\n",
       "      <td>0</td>\n",
       "      <td>1</td>\n",
       "      <td>1</td>\n",
       "    </tr>\n",
       "    <tr>\n",
       "      <th>1</th>\n",
       "      <td>37</td>\n",
       "      <td>1</td>\n",
       "      <td>2</td>\n",
       "      <td>130</td>\n",
       "      <td>250</td>\n",
       "      <td>0</td>\n",
       "      <td>1</td>\n",
       "      <td>187</td>\n",
       "      <td>0</td>\n",
       "      <td>3.5</td>\n",
       "      <td>0</td>\n",
       "      <td>0</td>\n",
       "      <td>2</td>\n",
       "      <td>1</td>\n",
       "    </tr>\n",
       "    <tr>\n",
       "      <th>2</th>\n",
       "      <td>41</td>\n",
       "      <td>0</td>\n",
       "      <td>1</td>\n",
       "      <td>130</td>\n",
       "      <td>204</td>\n",
       "      <td>0</td>\n",
       "      <td>0</td>\n",
       "      <td>172</td>\n",
       "      <td>0</td>\n",
       "      <td>1.4</td>\n",
       "      <td>2</td>\n",
       "      <td>0</td>\n",
       "      <td>2</td>\n",
       "      <td>1</td>\n",
       "    </tr>\n",
       "    <tr>\n",
       "      <th>3</th>\n",
       "      <td>56</td>\n",
       "      <td>1</td>\n",
       "      <td>1</td>\n",
       "      <td>120</td>\n",
       "      <td>236</td>\n",
       "      <td>0</td>\n",
       "      <td>1</td>\n",
       "      <td>178</td>\n",
       "      <td>0</td>\n",
       "      <td>0.8</td>\n",
       "      <td>2</td>\n",
       "      <td>0</td>\n",
       "      <td>2</td>\n",
       "      <td>1</td>\n",
       "    </tr>\n",
       "    <tr>\n",
       "      <th>4</th>\n",
       "      <td>57</td>\n",
       "      <td>0</td>\n",
       "      <td>0</td>\n",
       "      <td>120</td>\n",
       "      <td>354</td>\n",
       "      <td>0</td>\n",
       "      <td>1</td>\n",
       "      <td>163</td>\n",
       "      <td>1</td>\n",
       "      <td>0.6</td>\n",
       "      <td>2</td>\n",
       "      <td>0</td>\n",
       "      <td>2</td>\n",
       "      <td>1</td>\n",
       "    </tr>\n",
       "  </tbody>\n",
       "</table>\n",
       "</div>"
      ],
      "text/plain": [
       "   age  sex  cp  trestbps  chol  fbs  restecg  thalach  exang  oldpeak  slope  \\\n",
       "0   63    1   3       145   233    1        0      150      0      2.3      0   \n",
       "1   37    1   2       130   250    0        1      187      0      3.5      0   \n",
       "2   41    0   1       130   204    0        0      172      0      1.4      2   \n",
       "3   56    1   1       120   236    0        1      178      0      0.8      2   \n",
       "4   57    0   0       120   354    0        1      163      1      0.6      2   \n",
       "\n",
       "   ca  thal  target  \n",
       "0   0     1       1  \n",
       "1   0     2       1  \n",
       "2   0     2       1  \n",
       "3   0     2       1  \n",
       "4   0     2       1  "
      ]
     },
     "execution_count": 2,
     "metadata": {},
     "output_type": "execute_result"
    }
   ],
   "source": [
    "data = pd.read_csv('../input/heart-disease-uci/heart.csv')\n",
    "data.head()"
   ]
  },
  {
   "cell_type": "markdown",
   "id": "matched-cable",
   "metadata": {
    "papermill": {
     "duration": 0.008139,
     "end_time": "2021-04-30T12:42:29.780412",
     "exception": false,
     "start_time": "2021-04-30T12:42:29.772273",
     "status": "completed"
    },
    "tags": []
   },
   "source": [
    "**** Let's explore each column****\n",
    "1. 'age' - age in year\n",
    "1. 'sex'- male and female (1 and 0)\n",
    "1. 'cp' - chest pain type (0,1,2,3)\n",
    "1. 'trestbps' - resting blood pressure (in mm Hg on admission to the hospital)\n",
    "1. 'chol' - serum cholestoral in mg/dl\n",
    "1. 'fbs'- (fasting blood sugar &gt; 120 mg/dl) (1 = true; 0 = false)\n",
    "1. 'restecg' - resting electrocardiographic results\n",
    "1. 'thalach' - maximum heart rate achieved\n",
    "1. 'exang' - exercise induced angina (1 = yes; 0 = no)\n",
    "1. 'oldpeak' - ST depression induced by exercise relative to rest\n",
    "1. 'slope' - the slope of the peak exercise ST segment\n",
    "1. 'ca' - number of major vessels (0-3) colored by flourosopy\n",
    "1. 'thal' - 3 = normal; 6 = fixed defect; 7 = reversable defect\n",
    "1. 'target' - (Yes = 1, No = 0)"
   ]
  },
  {
   "cell_type": "code",
   "execution_count": 3,
   "id": "medieval-thickness",
   "metadata": {
    "execution": {
     "iopub.execute_input": "2021-04-30T12:42:29.801452Z",
     "iopub.status.busy": "2021-04-30T12:42:29.800678Z",
     "iopub.status.idle": "2021-04-30T12:42:29.809173Z",
     "shell.execute_reply": "2021-04-30T12:42:29.809701Z"
    },
    "papermill": {
     "duration": 0.020868,
     "end_time": "2021-04-30T12:42:29.809912",
     "exception": false,
     "start_time": "2021-04-30T12:42:29.789044",
     "status": "completed"
    },
    "tags": []
   },
   "outputs": [
    {
     "data": {
      "text/plain": [
       "age         0\n",
       "sex         0\n",
       "cp          0\n",
       "trestbps    0\n",
       "chol        0\n",
       "fbs         0\n",
       "restecg     0\n",
       "thalach     0\n",
       "exang       0\n",
       "oldpeak     0\n",
       "slope       0\n",
       "ca          0\n",
       "thal        0\n",
       "target      0\n",
       "dtype: int64"
      ]
     },
     "execution_count": 3,
     "metadata": {},
     "output_type": "execute_result"
    }
   ],
   "source": [
    "#Chek missing value\n",
    "data.isnull().sum()"
   ]
  },
  {
   "cell_type": "code",
   "execution_count": 4,
   "id": "chronic-spain",
   "metadata": {
    "execution": {
     "iopub.execute_input": "2021-04-30T12:42:29.832157Z",
     "iopub.status.busy": "2021-04-30T12:42:29.831455Z",
     "iopub.status.idle": "2021-04-30T12:42:29.900701Z",
     "shell.execute_reply": "2021-04-30T12:42:29.901179Z"
    },
    "papermill": {
     "duration": 0.082251,
     "end_time": "2021-04-30T12:42:29.901384",
     "exception": false,
     "start_time": "2021-04-30T12:42:29.819133",
     "status": "completed"
    },
    "tags": []
   },
   "outputs": [
    {
     "data": {
      "text/html": [
       "<div>\n",
       "<style scoped>\n",
       "    .dataframe tbody tr th:only-of-type {\n",
       "        vertical-align: middle;\n",
       "    }\n",
       "\n",
       "    .dataframe tbody tr th {\n",
       "        vertical-align: top;\n",
       "    }\n",
       "\n",
       "    .dataframe thead th {\n",
       "        text-align: right;\n",
       "    }\n",
       "</style>\n",
       "<table border=\"1\" class=\"dataframe\">\n",
       "  <thead>\n",
       "    <tr style=\"text-align: right;\">\n",
       "      <th></th>\n",
       "      <th>age</th>\n",
       "      <th>sex</th>\n",
       "      <th>cp</th>\n",
       "      <th>trestbps</th>\n",
       "      <th>chol</th>\n",
       "      <th>fbs</th>\n",
       "      <th>restecg</th>\n",
       "      <th>thalach</th>\n",
       "      <th>exang</th>\n",
       "      <th>oldpeak</th>\n",
       "      <th>slope</th>\n",
       "      <th>ca</th>\n",
       "      <th>thal</th>\n",
       "      <th>target</th>\n",
       "    </tr>\n",
       "  </thead>\n",
       "  <tbody>\n",
       "    <tr>\n",
       "      <th>0</th>\n",
       "      <td>3</td>\n",
       "      <td>1</td>\n",
       "      <td>3</td>\n",
       "      <td>2</td>\n",
       "      <td>1</td>\n",
       "      <td>1</td>\n",
       "      <td>0</td>\n",
       "      <td>2</td>\n",
       "      <td>0</td>\n",
       "      <td>2.3</td>\n",
       "      <td>0</td>\n",
       "      <td>0</td>\n",
       "      <td>1</td>\n",
       "      <td>1</td>\n",
       "    </tr>\n",
       "    <tr>\n",
       "      <th>1</th>\n",
       "      <td>0</td>\n",
       "      <td>1</td>\n",
       "      <td>2</td>\n",
       "      <td>1</td>\n",
       "      <td>1</td>\n",
       "      <td>0</td>\n",
       "      <td>1</td>\n",
       "      <td>4</td>\n",
       "      <td>0</td>\n",
       "      <td>3.5</td>\n",
       "      <td>0</td>\n",
       "      <td>0</td>\n",
       "      <td>2</td>\n",
       "      <td>1</td>\n",
       "    </tr>\n",
       "    <tr>\n",
       "      <th>2</th>\n",
       "      <td>1</td>\n",
       "      <td>0</td>\n",
       "      <td>1</td>\n",
       "      <td>1</td>\n",
       "      <td>0</td>\n",
       "      <td>0</td>\n",
       "      <td>0</td>\n",
       "      <td>3</td>\n",
       "      <td>0</td>\n",
       "      <td>1.4</td>\n",
       "      <td>2</td>\n",
       "      <td>0</td>\n",
       "      <td>2</td>\n",
       "      <td>1</td>\n",
       "    </tr>\n",
       "    <tr>\n",
       "      <th>3</th>\n",
       "      <td>2</td>\n",
       "      <td>1</td>\n",
       "      <td>1</td>\n",
       "      <td>1</td>\n",
       "      <td>1</td>\n",
       "      <td>0</td>\n",
       "      <td>1</td>\n",
       "      <td>3</td>\n",
       "      <td>0</td>\n",
       "      <td>0.8</td>\n",
       "      <td>2</td>\n",
       "      <td>0</td>\n",
       "      <td>2</td>\n",
       "      <td>1</td>\n",
       "    </tr>\n",
       "    <tr>\n",
       "      <th>4</th>\n",
       "      <td>2</td>\n",
       "      <td>0</td>\n",
       "      <td>0</td>\n",
       "      <td>1</td>\n",
       "      <td>2</td>\n",
       "      <td>0</td>\n",
       "      <td>1</td>\n",
       "      <td>3</td>\n",
       "      <td>1</td>\n",
       "      <td>0.6</td>\n",
       "      <td>2</td>\n",
       "      <td>0</td>\n",
       "      <td>2</td>\n",
       "      <td>1</td>\n",
       "    </tr>\n",
       "  </tbody>\n",
       "</table>\n",
       "</div>"
      ],
      "text/plain": [
       "   age  sex  cp  trestbps  chol  fbs  restecg  thalach  exang  oldpeak  slope  \\\n",
       "0    3    1   3         2     1    1        0        2      0      2.3      0   \n",
       "1    0    1   2         1     1    0        1        4      0      3.5      0   \n",
       "2    1    0   1         1     0    0        0        3      0      1.4      2   \n",
       "3    2    1   1         1     1    0        1        3      0      0.8      2   \n",
       "4    2    0   0         1     2    0        1        3      1      0.6      2   \n",
       "\n",
       "   ca  thal  target  \n",
       "0   0     1       1  \n",
       "1   0     2       1  \n",
       "2   0     2       1  \n",
       "3   0     2       1  \n",
       "4   0     2       1  "
      ]
     },
     "execution_count": 4,
     "metadata": {},
     "output_type": "execute_result"
    }
   ],
   "source": [
    "#extract the data\n",
    "\n",
    "def extract_data(dataset):\n",
    "\n",
    "    #extract columns 'age'\n",
    "    dataset.loc[ dataset['age'] <= 40, 'age'] = 0\n",
    "    dataset.loc[(dataset['age'] > 40) & (dataset['age'] <= 50), 'age'] = 1\n",
    "    dataset.loc[(dataset['age'] > 50) & (dataset['age'] <= 60), 'age'] = 2\n",
    "    dataset.loc[(dataset['age'] > 60) & (dataset['age'] <= 70), 'age'] = 3\n",
    "    dataset.loc[dataset['age'] > 70,'age'] = 4\n",
    "        \n",
    "    #extract columns 'trestbps'\n",
    "    dataset.loc[ dataset['trestbps'] <= 116, 'trestbps'] = 0\n",
    "    dataset.loc[(dataset['trestbps'] > 116) & (dataset['trestbps'] <= 138), 'trestbps'] = 1\n",
    "    dataset.loc[(dataset['trestbps'] > 138) & (dataset['trestbps'] <= 150), 'trestbps'] = 2\n",
    "    dataset.loc[(dataset['trestbps'] > 150) & (dataset['trestbps'] <= 172), 'trestbps'] = 3\n",
    "    dataset.loc[dataset['trestbps'] > 172,'trestbps'] = 4\n",
    "    \n",
    "    #extract columns 'chol'\n",
    "    dataset.loc[dataset['chol'] <= 214, 'chol'] = 0            \n",
    "    dataset.loc[(dataset['chol'] > 214) & (dataset['chol'] <= 302), 'chol'] = 1      \n",
    "    dataset.loc[(dataset['chol'] > 302) & (dataset['chol'] <= 390), 'chol'] = 2\n",
    "    dataset.loc[(dataset['chol'] > 390) & (dataset['chol'] <= 478), 'chol'] = 3     \n",
    "    dataset.loc[dataset['chol'] > 478,'chol'] = 4\n",
    "    \n",
    "     #extract columns 'thalach'\n",
    "    dataset.loc[ dataset['thalach'] <= 98, 'thalach'] = 0            \n",
    "    dataset.loc[(dataset['thalach'] > 98) & (dataset['thalach'] <= 125), 'thalach'] = 1      \n",
    "    dataset.loc[(dataset['thalach'] > 125) & (dataset['thalach'] <= 152), 'thalach'] = 2\n",
    "    dataset.loc[(dataset['thalach'] > 152) & (dataset['thalach'] <= 179), 'thalach'] = 3     \n",
    "    dataset.loc[dataset['thalach'] > 179,'thalach'] = 4\n",
    "    \n",
    "    return dataset\n",
    "                \n",
    "extract_data(data)\n",
    "data.head()"
   ]
  },
  {
   "cell_type": "markdown",
   "id": "moderate-bulgarian",
   "metadata": {
    "papermill": {
     "duration": 0.009892,
     "end_time": "2021-04-30T12:42:29.921601",
     "exception": false,
     "start_time": "2021-04-30T12:42:29.911709",
     "status": "completed"
    },
    "tags": []
   },
   "source": [
    "**Import Train Test Split**"
   ]
  },
  {
   "cell_type": "code",
   "execution_count": 5,
   "id": "afraid-italy",
   "metadata": {
    "execution": {
     "iopub.execute_input": "2021-04-30T12:42:29.947972Z",
     "iopub.status.busy": "2021-04-30T12:42:29.947230Z",
     "iopub.status.idle": "2021-04-30T12:42:30.105433Z",
     "shell.execute_reply": "2021-04-30T12:42:30.104627Z"
    },
    "papermill": {
     "duration": 0.174227,
     "end_time": "2021-04-30T12:42:30.105609",
     "exception": false,
     "start_time": "2021-04-30T12:42:29.931382",
     "status": "completed"
    },
    "tags": []
   },
   "outputs": [],
   "source": [
    "from sklearn.model_selection import train_test_split\n",
    "x = data.iloc[:,:-2]\n",
    "y = data['target']\n",
    "x_train, x_test, y_train, y_test = train_test_split(x, y, test_size = 0.2, random_state = 0)\n"
   ]
  },
  {
   "cell_type": "markdown",
   "id": "cloudy-reflection",
   "metadata": {
    "papermill": {
     "duration": 0.009641,
     "end_time": "2021-04-30T12:42:30.125388",
     "exception": false,
     "start_time": "2021-04-30T12:42:30.115747",
     "status": "completed"
    },
    "tags": []
   },
   "source": [
    "**Train Model  ******"
   ]
  },
  {
   "cell_type": "code",
   "execution_count": 6,
   "id": "genuine-duplicate",
   "metadata": {
    "execution": {
     "iopub.execute_input": "2021-04-30T12:42:30.159131Z",
     "iopub.status.busy": "2021-04-30T12:42:30.158308Z",
     "iopub.status.idle": "2021-04-30T12:42:30.619373Z",
     "shell.execute_reply": "2021-04-30T12:42:30.618596Z"
    },
    "papermill": {
     "duration": 0.484275,
     "end_time": "2021-04-30T12:42:30.619549",
     "exception": false,
     "start_time": "2021-04-30T12:42:30.135274",
     "status": "completed"
    },
    "tags": []
   },
   "outputs": [
    {
     "name": "stdout",
     "output_type": "stream",
     "text": [
      "Logistic Regression\n",
      "[[20  7]\n",
      " [ 4 30]]\n",
      "Train accuracy is 0.8223140495867769\n",
      "Test accuracy is 0.819672131147541\n",
      " \n",
      "Decision Tree\n",
      "[[17 10]\n",
      " [ 7 27]]\n",
      "Train accuracy is 1.0\n",
      "Test accuracy is 0.7213114754098361\n",
      " \n",
      "Native Bayes\n",
      "[[19  8]\n",
      " [ 6 28]]\n",
      "Train accuracy is 0.8264462809917356\n",
      "Test accuracy is 0.7704918032786885\n"
     ]
    }
   ],
   "source": [
    "from sklearn.linear_model import LogisticRegression\n",
    "from sklearn import tree\n",
    "from sklearn.naive_bayes import GaussianNB\n",
    "from sklearn.metrics import confusion_matrix, accuracy_score\n",
    "\n",
    "def logisticregression(train,test):\n",
    " model = LogisticRegression(random_state=0).fit(train, y_train)\n",
    " y_train_pred = model.predict(train)\n",
    " y_test_pred = model.predict(test) \n",
    " train_score = accuracy_score(y_train, y_train_pred)\n",
    " test_score = accuracy_score(y_test, y_test_pred)\n",
    " matrix = confusion_matrix(y_test, y_test_pred)\n",
    " print('Logistic Regression')\n",
    " print(matrix)\n",
    " print('Train accuracy is',train_score )\n",
    " print('Test accuracy is',test_score )\n",
    "    \n",
    "def decisiontree(train,test):\n",
    " model = tree.DecisionTreeClassifier(criterion = 'entropy')\n",
    " model = model.fit(train,y_train)\n",
    " y_train_pred = model.predict(train)\n",
    " y_test_pred = model.predict(test)\n",
    " train_score = accuracy_score(y_train , y_train_pred)\n",
    " test_score = accuracy_score(y_test, y_test_pred)\n",
    " matrix = confusion_matrix(y_test, y_test_pred)\n",
    " print(' ')\n",
    " print('Decision Tree')\n",
    " print(matrix)\n",
    " print('Train accuracy is',train_score )\n",
    " print('Test accuracy is',test_score )\n",
    "    \n",
    "def naivebays(train,test):\n",
    " model = GaussianNB()\n",
    " model = model.fit(train,y_train)\n",
    " y_train_pred = model.predict(train)\n",
    " y_test_pred = model.predict(test)\n",
    " train_score = accuracy_score(y_train , y_train_pred)\n",
    " test_score = accuracy_score(y_test, y_test_pred)\n",
    " matrix = confusion_matrix(y_test, y_test_pred)\n",
    " print(' ')\n",
    " print('Native Bayes')\n",
    " print(matrix)\n",
    " print('Train accuracy is',train_score )\n",
    " print('Test accuracy is',test_score )    \n",
    "\n",
    "logisticregression(x_train,x_test)\n",
    "decisiontree(x_train,x_test)\n",
    "naivebays(x_train,x_test)  \n"
   ]
  },
  {
   "cell_type": "markdown",
   "id": "efficient-paris",
   "metadata": {
    "papermill": {
     "duration": 0.010281,
     "end_time": "2021-04-30T12:42:30.640535",
     "exception": false,
     "start_time": "2021-04-30T12:42:30.630254",
     "status": "completed"
    },
    "tags": []
   },
   "source": [
    "Then We use Logistic regression because that's highest accuracy."
   ]
  }
 ],
 "metadata": {
  "kernelspec": {
   "display_name": "Python 3",
   "language": "python",
   "name": "python3"
  },
  "language_info": {
   "codemirror_mode": {
    "name": "ipython",
    "version": 3
   },
   "file_extension": ".py",
   "mimetype": "text/x-python",
   "name": "python",
   "nbconvert_exporter": "python",
   "pygments_lexer": "ipython3",
   "version": "3.7.10"
  },
  "papermill": {
   "default_parameters": {},
   "duration": 14.003933,
   "end_time": "2021-04-30T12:42:32.270155",
   "environment_variables": {},
   "exception": null,
   "input_path": "__notebook__.ipynb",
   "output_path": "__notebook__.ipynb",
   "parameters": {},
   "start_time": "2021-04-30T12:42:18.266222",
   "version": "2.3.3"
  }
 },
 "nbformat": 4,
 "nbformat_minor": 5
}

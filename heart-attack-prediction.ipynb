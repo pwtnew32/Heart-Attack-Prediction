{
 "cells": [
  {
   "cell_type": "code",
   "execution_count": 1,
   "id": "relative-magnitude",
   "metadata": {
    "_cell_guid": "b1076dfc-b9ad-4769-8c92-a6c4dae69d19",
    "_uuid": "8f2839f25d086af736a60e9eeb907d3b93b6e0e5",
    "execution": {
     "iopub.execute_input": "2021-05-23T06:44:09.501723Z",
     "iopub.status.busy": "2021-05-23T06:44:09.500579Z",
     "iopub.status.idle": "2021-05-23T06:44:11.019492Z",
     "shell.execute_reply": "2021-05-23T06:44:11.020090Z",
     "shell.execute_reply.started": "2021-05-23T03:37:48.921813Z"
    },
    "papermill": {
     "duration": 1.53586,
     "end_time": "2021-05-23T06:44:11.020392",
     "exception": false,
     "start_time": "2021-05-23T06:44:09.484532",
     "status": "completed"
    },
    "tags": []
   },
   "outputs": [],
   "source": [
    "import numpy as np\n",
    "import pandas as pd\n",
    "import matplotlib.pyplot as plt\n",
    "import seaborn as sns\n",
    "import statsmodels.api as sm\n",
    "from scipy import stats\n",
    "stats.chisqprob = lambda chisq, df: stats.chi2.sf(chisq, df)\n",
    "import warnings\n",
    "warnings.filterwarnings(\"ignore\")"
   ]
  },
  {
   "cell_type": "markdown",
   "id": "infectious-accuracy",
   "metadata": {
    "papermill": {
     "duration": 0.011762,
     "end_time": "2021-05-23T06:44:11.043813",
     "exception": false,
     "start_time": "2021-05-23T06:44:11.032051",
     "status": "completed"
    },
    "tags": []
   },
   "source": [
    "# Load data"
   ]
  },
  {
   "cell_type": "code",
   "execution_count": 2,
   "id": "dietary-collective",
   "metadata": {
    "execution": {
     "iopub.execute_input": "2021-05-23T06:44:11.069574Z",
     "iopub.status.busy": "2021-05-23T06:44:11.068922Z",
     "iopub.status.idle": "2021-05-23T06:44:11.116304Z",
     "shell.execute_reply": "2021-05-23T06:44:11.116770Z",
     "shell.execute_reply.started": "2021-05-23T03:37:50.589705Z"
    },
    "papermill": {
     "duration": 0.061707,
     "end_time": "2021-05-23T06:44:11.116924",
     "exception": false,
     "start_time": "2021-05-23T06:44:11.055217",
     "status": "completed"
    },
    "tags": []
   },
   "outputs": [
    {
     "data": {
      "text/html": [
       "<div>\n",
       "<style scoped>\n",
       "    .dataframe tbody tr th:only-of-type {\n",
       "        vertical-align: middle;\n",
       "    }\n",
       "\n",
       "    .dataframe tbody tr th {\n",
       "        vertical-align: top;\n",
       "    }\n",
       "\n",
       "    .dataframe thead th {\n",
       "        text-align: right;\n",
       "    }\n",
       "</style>\n",
       "<table border=\"1\" class=\"dataframe\">\n",
       "  <thead>\n",
       "    <tr style=\"text-align: right;\">\n",
       "      <th></th>\n",
       "      <th>age</th>\n",
       "      <th>sex</th>\n",
       "      <th>cp</th>\n",
       "      <th>trestbps</th>\n",
       "      <th>chol</th>\n",
       "      <th>fbs</th>\n",
       "      <th>restecg</th>\n",
       "      <th>thalach</th>\n",
       "      <th>exang</th>\n",
       "      <th>oldpeak</th>\n",
       "      <th>slope</th>\n",
       "      <th>ca</th>\n",
       "      <th>thal</th>\n",
       "      <th>target</th>\n",
       "    </tr>\n",
       "  </thead>\n",
       "  <tbody>\n",
       "    <tr>\n",
       "      <th>0</th>\n",
       "      <td>63</td>\n",
       "      <td>1</td>\n",
       "      <td>3</td>\n",
       "      <td>145</td>\n",
       "      <td>233</td>\n",
       "      <td>1</td>\n",
       "      <td>0</td>\n",
       "      <td>150</td>\n",
       "      <td>0</td>\n",
       "      <td>2.3</td>\n",
       "      <td>0</td>\n",
       "      <td>0</td>\n",
       "      <td>1</td>\n",
       "      <td>1</td>\n",
       "    </tr>\n",
       "    <tr>\n",
       "      <th>1</th>\n",
       "      <td>37</td>\n",
       "      <td>1</td>\n",
       "      <td>2</td>\n",
       "      <td>130</td>\n",
       "      <td>250</td>\n",
       "      <td>0</td>\n",
       "      <td>1</td>\n",
       "      <td>187</td>\n",
       "      <td>0</td>\n",
       "      <td>3.5</td>\n",
       "      <td>0</td>\n",
       "      <td>0</td>\n",
       "      <td>2</td>\n",
       "      <td>1</td>\n",
       "    </tr>\n",
       "    <tr>\n",
       "      <th>2</th>\n",
       "      <td>41</td>\n",
       "      <td>0</td>\n",
       "      <td>1</td>\n",
       "      <td>130</td>\n",
       "      <td>204</td>\n",
       "      <td>0</td>\n",
       "      <td>0</td>\n",
       "      <td>172</td>\n",
       "      <td>0</td>\n",
       "      <td>1.4</td>\n",
       "      <td>2</td>\n",
       "      <td>0</td>\n",
       "      <td>2</td>\n",
       "      <td>1</td>\n",
       "    </tr>\n",
       "    <tr>\n",
       "      <th>3</th>\n",
       "      <td>56</td>\n",
       "      <td>1</td>\n",
       "      <td>1</td>\n",
       "      <td>120</td>\n",
       "      <td>236</td>\n",
       "      <td>0</td>\n",
       "      <td>1</td>\n",
       "      <td>178</td>\n",
       "      <td>0</td>\n",
       "      <td>0.8</td>\n",
       "      <td>2</td>\n",
       "      <td>0</td>\n",
       "      <td>2</td>\n",
       "      <td>1</td>\n",
       "    </tr>\n",
       "    <tr>\n",
       "      <th>4</th>\n",
       "      <td>57</td>\n",
       "      <td>0</td>\n",
       "      <td>0</td>\n",
       "      <td>120</td>\n",
       "      <td>354</td>\n",
       "      <td>0</td>\n",
       "      <td>1</td>\n",
       "      <td>163</td>\n",
       "      <td>1</td>\n",
       "      <td>0.6</td>\n",
       "      <td>2</td>\n",
       "      <td>0</td>\n",
       "      <td>2</td>\n",
       "      <td>1</td>\n",
       "    </tr>\n",
       "  </tbody>\n",
       "</table>\n",
       "</div>"
      ],
      "text/plain": [
       "   age  sex  cp  trestbps  chol  fbs  restecg  thalach  exang  oldpeak  slope  \\\n",
       "0   63    1   3       145   233    1        0      150      0      2.3      0   \n",
       "1   37    1   2       130   250    0        1      187      0      3.5      0   \n",
       "2   41    0   1       130   204    0        0      172      0      1.4      2   \n",
       "3   56    1   1       120   236    0        1      178      0      0.8      2   \n",
       "4   57    0   0       120   354    0        1      163      1      0.6      2   \n",
       "\n",
       "   ca  thal  target  \n",
       "0   0     1       1  \n",
       "1   0     2       1  \n",
       "2   0     2       1  \n",
       "3   0     2       1  \n",
       "4   0     2       1  "
      ]
     },
     "execution_count": 2,
     "metadata": {},
     "output_type": "execute_result"
    }
   ],
   "source": [
    "data = pd.read_csv('../input/heart-disease-uci/heart.csv')\n",
    "data.head()"
   ]
  },
  {
   "cell_type": "markdown",
   "id": "loaded-spelling",
   "metadata": {
    "papermill": {
     "duration": 0.011514,
     "end_time": "2021-05-23T06:44:11.140470",
     "exception": false,
     "start_time": "2021-05-23T06:44:11.128956",
     "status": "completed"
    },
    "tags": []
   },
   "source": [
    "**** Let's explore each column****\n",
    "1. 'age' - age in year\n",
    "1. 'sex'- male and female (1 and 0)\n",
    "1. 'cp' - chest pain type (0,1,2,3)\n",
    "1. 'trestbps' - resting blood pressure (in mm Hg on admission to the hospital)\n",
    "1. 'chol' - serum cholestoral in mg/dl\n",
    "1. 'fbs'- (fasting blood sugar &gt; 120 mg/dl) (1 = true; 0 = false)\n",
    "1. 'restecg' - resting electrocardiographic results\n",
    "1. 'thalach' - maximum heart rate achieved\n",
    "1. 'exang' - exercise induced angina (1 = yes; 0 = no)\n",
    "1. 'oldpeak' - ST depression induced by exercise relative to rest\n",
    "1. 'slope' - the slope of the peak exercise ST segment\n",
    "1. 'ca' - number of major vessels (0-3) colored by flourosopy\n",
    "1. 'thal' - 3 = normal; 6 = fixed defect; 7 = reversable defect\n",
    "1. 'target' - (Yes = 1, No = 0)"
   ]
  },
  {
   "cell_type": "code",
   "execution_count": 3,
   "id": "duplicate-climate",
   "metadata": {
    "execution": {
     "iopub.execute_input": "2021-05-23T06:44:11.167091Z",
     "iopub.status.busy": "2021-05-23T06:44:11.166547Z",
     "iopub.status.idle": "2021-05-23T06:44:11.243929Z",
     "shell.execute_reply": "2021-05-23T06:44:11.243303Z",
     "shell.execute_reply.started": "2021-05-23T03:37:55.765923Z"
    },
    "papermill": {
     "duration": 0.091452,
     "end_time": "2021-05-23T06:44:11.244090",
     "exception": false,
     "start_time": "2021-05-23T06:44:11.152638",
     "status": "completed"
    },
    "tags": []
   },
   "outputs": [
    {
     "data": {
      "text/html": [
       "<div>\n",
       "<style scoped>\n",
       "    .dataframe tbody tr th:only-of-type {\n",
       "        vertical-align: middle;\n",
       "    }\n",
       "\n",
       "    .dataframe tbody tr th {\n",
       "        vertical-align: top;\n",
       "    }\n",
       "\n",
       "    .dataframe thead th {\n",
       "        text-align: right;\n",
       "    }\n",
       "</style>\n",
       "<table border=\"1\" class=\"dataframe\">\n",
       "  <thead>\n",
       "    <tr style=\"text-align: right;\">\n",
       "      <th></th>\n",
       "      <th>age</th>\n",
       "      <th>sex</th>\n",
       "      <th>cp</th>\n",
       "      <th>trestbps</th>\n",
       "      <th>chol</th>\n",
       "      <th>fbs</th>\n",
       "      <th>restecg</th>\n",
       "      <th>thalach</th>\n",
       "      <th>exang</th>\n",
       "      <th>oldpeak</th>\n",
       "      <th>slope</th>\n",
       "      <th>ca</th>\n",
       "      <th>thal</th>\n",
       "      <th>target</th>\n",
       "    </tr>\n",
       "  </thead>\n",
       "  <tbody>\n",
       "    <tr>\n",
       "      <th>count</th>\n",
       "      <td>303.000000</td>\n",
       "      <td>303.000000</td>\n",
       "      <td>303.000000</td>\n",
       "      <td>303.000000</td>\n",
       "      <td>303.000000</td>\n",
       "      <td>303.000000</td>\n",
       "      <td>303.000000</td>\n",
       "      <td>303.000000</td>\n",
       "      <td>303.000000</td>\n",
       "      <td>303.000000</td>\n",
       "      <td>303.000000</td>\n",
       "      <td>303.000000</td>\n",
       "      <td>303.000000</td>\n",
       "      <td>303.000000</td>\n",
       "    </tr>\n",
       "    <tr>\n",
       "      <th>mean</th>\n",
       "      <td>54.366337</td>\n",
       "      <td>0.683168</td>\n",
       "      <td>0.966997</td>\n",
       "      <td>131.623762</td>\n",
       "      <td>246.264026</td>\n",
       "      <td>0.148515</td>\n",
       "      <td>0.528053</td>\n",
       "      <td>149.646865</td>\n",
       "      <td>0.326733</td>\n",
       "      <td>1.039604</td>\n",
       "      <td>1.399340</td>\n",
       "      <td>0.729373</td>\n",
       "      <td>2.313531</td>\n",
       "      <td>0.544554</td>\n",
       "    </tr>\n",
       "    <tr>\n",
       "      <th>std</th>\n",
       "      <td>9.082101</td>\n",
       "      <td>0.466011</td>\n",
       "      <td>1.032052</td>\n",
       "      <td>17.538143</td>\n",
       "      <td>51.830751</td>\n",
       "      <td>0.356198</td>\n",
       "      <td>0.525860</td>\n",
       "      <td>22.905161</td>\n",
       "      <td>0.469794</td>\n",
       "      <td>1.161075</td>\n",
       "      <td>0.616226</td>\n",
       "      <td>1.022606</td>\n",
       "      <td>0.612277</td>\n",
       "      <td>0.498835</td>\n",
       "    </tr>\n",
       "    <tr>\n",
       "      <th>min</th>\n",
       "      <td>29.000000</td>\n",
       "      <td>0.000000</td>\n",
       "      <td>0.000000</td>\n",
       "      <td>94.000000</td>\n",
       "      <td>126.000000</td>\n",
       "      <td>0.000000</td>\n",
       "      <td>0.000000</td>\n",
       "      <td>71.000000</td>\n",
       "      <td>0.000000</td>\n",
       "      <td>0.000000</td>\n",
       "      <td>0.000000</td>\n",
       "      <td>0.000000</td>\n",
       "      <td>0.000000</td>\n",
       "      <td>0.000000</td>\n",
       "    </tr>\n",
       "    <tr>\n",
       "      <th>25%</th>\n",
       "      <td>47.500000</td>\n",
       "      <td>0.000000</td>\n",
       "      <td>0.000000</td>\n",
       "      <td>120.000000</td>\n",
       "      <td>211.000000</td>\n",
       "      <td>0.000000</td>\n",
       "      <td>0.000000</td>\n",
       "      <td>133.500000</td>\n",
       "      <td>0.000000</td>\n",
       "      <td>0.000000</td>\n",
       "      <td>1.000000</td>\n",
       "      <td>0.000000</td>\n",
       "      <td>2.000000</td>\n",
       "      <td>0.000000</td>\n",
       "    </tr>\n",
       "    <tr>\n",
       "      <th>50%</th>\n",
       "      <td>55.000000</td>\n",
       "      <td>1.000000</td>\n",
       "      <td>1.000000</td>\n",
       "      <td>130.000000</td>\n",
       "      <td>240.000000</td>\n",
       "      <td>0.000000</td>\n",
       "      <td>1.000000</td>\n",
       "      <td>153.000000</td>\n",
       "      <td>0.000000</td>\n",
       "      <td>0.800000</td>\n",
       "      <td>1.000000</td>\n",
       "      <td>0.000000</td>\n",
       "      <td>2.000000</td>\n",
       "      <td>1.000000</td>\n",
       "    </tr>\n",
       "    <tr>\n",
       "      <th>75%</th>\n",
       "      <td>61.000000</td>\n",
       "      <td>1.000000</td>\n",
       "      <td>2.000000</td>\n",
       "      <td>140.000000</td>\n",
       "      <td>274.500000</td>\n",
       "      <td>0.000000</td>\n",
       "      <td>1.000000</td>\n",
       "      <td>166.000000</td>\n",
       "      <td>1.000000</td>\n",
       "      <td>1.600000</td>\n",
       "      <td>2.000000</td>\n",
       "      <td>1.000000</td>\n",
       "      <td>3.000000</td>\n",
       "      <td>1.000000</td>\n",
       "    </tr>\n",
       "    <tr>\n",
       "      <th>max</th>\n",
       "      <td>77.000000</td>\n",
       "      <td>1.000000</td>\n",
       "      <td>3.000000</td>\n",
       "      <td>200.000000</td>\n",
       "      <td>564.000000</td>\n",
       "      <td>1.000000</td>\n",
       "      <td>2.000000</td>\n",
       "      <td>202.000000</td>\n",
       "      <td>1.000000</td>\n",
       "      <td>6.200000</td>\n",
       "      <td>2.000000</td>\n",
       "      <td>4.000000</td>\n",
       "      <td>3.000000</td>\n",
       "      <td>1.000000</td>\n",
       "    </tr>\n",
       "  </tbody>\n",
       "</table>\n",
       "</div>"
      ],
      "text/plain": [
       "              age         sex          cp    trestbps        chol         fbs  \\\n",
       "count  303.000000  303.000000  303.000000  303.000000  303.000000  303.000000   \n",
       "mean    54.366337    0.683168    0.966997  131.623762  246.264026    0.148515   \n",
       "std      9.082101    0.466011    1.032052   17.538143   51.830751    0.356198   \n",
       "min     29.000000    0.000000    0.000000   94.000000  126.000000    0.000000   \n",
       "25%     47.500000    0.000000    0.000000  120.000000  211.000000    0.000000   \n",
       "50%     55.000000    1.000000    1.000000  130.000000  240.000000    0.000000   \n",
       "75%     61.000000    1.000000    2.000000  140.000000  274.500000    0.000000   \n",
       "max     77.000000    1.000000    3.000000  200.000000  564.000000    1.000000   \n",
       "\n",
       "          restecg     thalach       exang     oldpeak       slope          ca  \\\n",
       "count  303.000000  303.000000  303.000000  303.000000  303.000000  303.000000   \n",
       "mean     0.528053  149.646865    0.326733    1.039604    1.399340    0.729373   \n",
       "std      0.525860   22.905161    0.469794    1.161075    0.616226    1.022606   \n",
       "min      0.000000   71.000000    0.000000    0.000000    0.000000    0.000000   \n",
       "25%      0.000000  133.500000    0.000000    0.000000    1.000000    0.000000   \n",
       "50%      1.000000  153.000000    0.000000    0.800000    1.000000    0.000000   \n",
       "75%      1.000000  166.000000    1.000000    1.600000    2.000000    1.000000   \n",
       "max      2.000000  202.000000    1.000000    6.200000    2.000000    4.000000   \n",
       "\n",
       "             thal      target  \n",
       "count  303.000000  303.000000  \n",
       "mean     2.313531    0.544554  \n",
       "std      0.612277    0.498835  \n",
       "min      0.000000    0.000000  \n",
       "25%      2.000000    0.000000  \n",
       "50%      2.000000    1.000000  \n",
       "75%      3.000000    1.000000  \n",
       "max      3.000000    1.000000  "
      ]
     },
     "execution_count": 3,
     "metadata": {},
     "output_type": "execute_result"
    }
   ],
   "source": [
    "data.describe()"
   ]
  },
  {
   "cell_type": "markdown",
   "id": "palestinian-thesis",
   "metadata": {
    "papermill": {
     "duration": 0.017329,
     "end_time": "2021-05-23T06:44:11.276934",
     "exception": false,
     "start_time": "2021-05-23T06:44:11.259605",
     "status": "completed"
    },
    "tags": []
   },
   "source": [
    "# Explore the data"
   ]
  },
  {
   "cell_type": "code",
   "execution_count": 4,
   "id": "upset-ballot",
   "metadata": {
    "execution": {
     "iopub.execute_input": "2021-05-23T06:44:11.331578Z",
     "iopub.status.busy": "2021-05-23T06:44:11.330954Z",
     "iopub.status.idle": "2021-05-23T06:44:13.379480Z",
     "shell.execute_reply": "2021-05-23T06:44:13.378864Z",
     "shell.execute_reply.started": "2021-05-23T03:40:17.339875Z"
    },
    "papermill": {
     "duration": 2.088773,
     "end_time": "2021-05-23T06:44:13.379613",
     "exception": false,
     "start_time": "2021-05-23T06:44:11.290840",
     "status": "completed"
    },
    "tags": []
   },
   "outputs": [
    {
     "data": {
      "image/png": "[encoded data removed]",
      "text/plain": [
       "<Figure size 432x288 with 1 Axes>"
      ]
     },
     "metadata": {},
     "output_type": "display_data"
    },
    {
     "data": {
      "image/png": "[encoded data removed]",
      "text/plain": [
       "<Figure size 432x288 with 1 Axes>"
      ]
     },
     "metadata": {},
     "output_type": "display_data"
    },
    {
     "data": {
      "image/png": "[encoded data removed]",
      "text/plain": [
       "<Figure size 432x288 with 1 Axes>"
      ]
     },
     "metadata": {},
     "output_type": "display_data"
    },
    {
     "data": {
      "image/png": "[encoded data removed]",
      "text/plain": [
       "<Figure size 432x288 with 1 Axes>"
      ]
     },
     "metadata": {},
     "output_type": "display_data"
    },
    {
     "data": {
      "image/png": "[encoded data removed]",
      "text/plain": [
       "<Figure size 432x288 with 1 Axes>"
      ]
     },
     "metadata": {},
     "output_type": "display_data"
    },
    {
     "data": {
      "image/png": "[encoded data removed]",
      "text/plain": [
       "<Figure size 432x288 with 1 Axes>"
      ]
     },
     "metadata": {},
     "output_type": "display_data"
    },
    {
     "data": {
      "image/png": "[encoded data removed]",
      "text/plain": [
       "<Figure size 432x288 with 1 Axes>"
      ]
     },
     "metadata": {},
     "output_type": "display_data"
    },
    {
     "data": {
      "image/png": "[encoded data removed]",
      "text/plain": [
       "<Figure size 432x288 with 1 Axes>"
      ]
     },
     "metadata": {},
     "output_type": "display_data"
    },
    {
     "data": {
      "image/png": "[encoded data removed]",
      "text/plain": [
       "<Figure size 432x288 with 1 Axes>"
      ]
     },
     "metadata": {},
     "output_type": "display_data"
    },
    {
     "data": {
      "image/png": "[encoded data removed]",
      "text/plain": [
       "<Figure size 432x288 with 1 Axes>"
      ]
     },
     "metadata": {},
     "output_type": "display_data"
    },
    {
     "data": {
      "image/png": "[encoded data removed]",
      "text/plain": [
       "<Figure size 432x288 with 1 Axes>"
      ]
     },
     "metadata": {},
     "output_type": "display_data"
    },
    {
     "data": {
      "image/png": "[encoded data removed]",
      "text/plain": [
       "<Figure size 432x288 with 1 Axes>"
      ]
     },
     "metadata": {},
     "output_type": "display_data"
    },
    {
     "data": {
      "image/png": "[encoded data removed]",
      "text/plain": [
       "<Figure size 432x288 with 1 Axes>"
      ]
     },
     "metadata": {},
     "output_type": "display_data"
    },
    {
     "data": {
      "image/png": "[encoded data removed]",
      "text/plain": [
       "<Figure size 432x288 with 1 Axes>"
      ]
     },
     "metadata": {},
     "output_type": "display_data"
    }
   ],
   "source": [
    "def plot_box(data, cols, col_x = 'target'):\n",
    "    for col in cols:\n",
    "        sns.set_style(\"whitegrid\")\n",
    "        sns.boxplot(col_x, col, data=data)\n",
    "        plt.xlabel(col_x) # Set text for the x axis\n",
    "        plt.ylabel(col)# Set text for y axis\n",
    "        plt.show()\n",
    "        \n",
    "num_cols = ['age', 'sex', 'cp', 'trestbps', 'chol', 'fbs', 'restecg','thalach', 'exang', 'oldpeak', 'slope', 'ca', 'thal', 'target']\n",
    "plot_box(data, num_cols)"
   ]
  },
  {
   "cell_type": "code",
   "execution_count": 5,
   "id": "yellow-wells",
   "metadata": {
    "execution": {
     "iopub.execute_input": "2021-05-23T06:44:13.437366Z",
     "iopub.status.busy": "2021-05-23T06:44:13.436763Z",
     "iopub.status.idle": "2021-05-23T06:44:13.443520Z",
     "shell.execute_reply": "2021-05-23T06:44:13.443039Z",
     "shell.execute_reply.started": "2021-05-23T03:44:53.569570Z"
    },
    "papermill": {
     "duration": 0.042147,
     "end_time": "2021-05-23T06:44:13.443695",
     "exception": false,
     "start_time": "2021-05-23T06:44:13.401548",
     "status": "completed"
    },
    "tags": []
   },
   "outputs": [
    {
     "data": {
      "text/html": [
       "<div>\n",
       "<style scoped>\n",
       "    .dataframe tbody tr th:only-of-type {\n",
       "        vertical-align: middle;\n",
       "    }\n",
       "\n",
       "    .dataframe tbody tr th {\n",
       "        vertical-align: top;\n",
       "    }\n",
       "\n",
       "    .dataframe thead th {\n",
       "        text-align: right;\n",
       "    }\n",
       "</style>\n",
       "<table border=\"1\" class=\"dataframe\">\n",
       "  <thead>\n",
       "    <tr style=\"text-align: right;\">\n",
       "      <th></th>\n",
       "      <th>age</th>\n",
       "      <th>sex</th>\n",
       "      <th>cp</th>\n",
       "      <th>trestbps</th>\n",
       "      <th>chol</th>\n",
       "      <th>fbs</th>\n",
       "      <th>restecg</th>\n",
       "      <th>thalach</th>\n",
       "      <th>exang</th>\n",
       "      <th>oldpeak</th>\n",
       "      <th>slope</th>\n",
       "      <th>ca</th>\n",
       "      <th>thal</th>\n",
       "      <th>target</th>\n",
       "    </tr>\n",
       "  </thead>\n",
       "  <tbody>\n",
       "    <tr>\n",
       "      <th>0</th>\n",
       "      <td>63</td>\n",
       "      <td>1</td>\n",
       "      <td>3</td>\n",
       "      <td>145</td>\n",
       "      <td>233</td>\n",
       "      <td>1</td>\n",
       "      <td>0</td>\n",
       "      <td>150</td>\n",
       "      <td>0</td>\n",
       "      <td>2.3</td>\n",
       "      <td>0</td>\n",
       "      <td>0</td>\n",
       "      <td>1</td>\n",
       "      <td>1</td>\n",
       "    </tr>\n",
       "    <tr>\n",
       "      <th>1</th>\n",
       "      <td>37</td>\n",
       "      <td>1</td>\n",
       "      <td>2</td>\n",
       "      <td>130</td>\n",
       "      <td>250</td>\n",
       "      <td>0</td>\n",
       "      <td>1</td>\n",
       "      <td>187</td>\n",
       "      <td>0</td>\n",
       "      <td>3.5</td>\n",
       "      <td>0</td>\n",
       "      <td>0</td>\n",
       "      <td>2</td>\n",
       "      <td>1</td>\n",
       "    </tr>\n",
       "    <tr>\n",
       "      <th>2</th>\n",
       "      <td>41</td>\n",
       "      <td>0</td>\n",
       "      <td>1</td>\n",
       "      <td>130</td>\n",
       "      <td>204</td>\n",
       "      <td>0</td>\n",
       "      <td>0</td>\n",
       "      <td>172</td>\n",
       "      <td>0</td>\n",
       "      <td>1.4</td>\n",
       "      <td>2</td>\n",
       "      <td>0</td>\n",
       "      <td>2</td>\n",
       "      <td>1</td>\n",
       "    </tr>\n",
       "    <tr>\n",
       "      <th>3</th>\n",
       "      <td>56</td>\n",
       "      <td>1</td>\n",
       "      <td>1</td>\n",
       "      <td>120</td>\n",
       "      <td>236</td>\n",
       "      <td>0</td>\n",
       "      <td>1</td>\n",
       "      <td>178</td>\n",
       "      <td>0</td>\n",
       "      <td>0.8</td>\n",
       "      <td>2</td>\n",
       "      <td>0</td>\n",
       "      <td>2</td>\n",
       "      <td>1</td>\n",
       "    </tr>\n",
       "    <tr>\n",
       "      <th>4</th>\n",
       "      <td>57</td>\n",
       "      <td>0</td>\n",
       "      <td>0</td>\n",
       "      <td>120</td>\n",
       "      <td>354</td>\n",
       "      <td>0</td>\n",
       "      <td>1</td>\n",
       "      <td>163</td>\n",
       "      <td>1</td>\n",
       "      <td>0.6</td>\n",
       "      <td>2</td>\n",
       "      <td>0</td>\n",
       "      <td>2</td>\n",
       "      <td>1</td>\n",
       "    </tr>\n",
       "  </tbody>\n",
       "</table>\n",
       "</div>"
      ],
      "text/plain": [
       "   age  sex  cp  trestbps  chol  fbs  restecg  thalach  exang  oldpeak  slope  \\\n",
       "0   63    1   3       145   233    1        0      150      0      2.3      0   \n",
       "1   37    1   2       130   250    0        1      187      0      3.5      0   \n",
       "2   41    0   1       130   204    0        0      172      0      1.4      2   \n",
       "3   56    1   1       120   236    0        1      178      0      0.8      2   \n",
       "4   57    0   0       120   354    0        1      163      1      0.6      2   \n",
       "\n",
       "   ca  thal  target  \n",
       "0   0     1       1  \n",
       "1   0     2       1  \n",
       "2   0     2       1  \n",
       "3   0     2       1  \n",
       "4   0     2       1  "
      ]
     },
     "execution_count": 5,
     "metadata": {},
     "output_type": "execute_result"
    }
   ],
   "source": [
    "#from box plot.Drop columns 'fbs','restecg'\n",
    "data.drop(['fbs','restecg'],axis=1)\n",
    "data.head()"
   ]
  },
  {
   "cell_type": "code",
   "execution_count": 6,
   "id": "registered-background",
   "metadata": {
    "execution": {
     "iopub.execute_input": "2021-05-23T06:44:13.494419Z",
     "iopub.status.busy": "2021-05-23T06:44:13.492449Z",
     "iopub.status.idle": "2021-05-23T06:44:13.497041Z",
     "shell.execute_reply": "2021-05-23T06:44:13.497585Z",
     "shell.execute_reply.started": "2021-05-23T03:44:58.584876Z"
    },
    "papermill": {
     "duration": 0.031294,
     "end_time": "2021-05-23T06:44:13.497729",
     "exception": false,
     "start_time": "2021-05-23T06:44:13.466435",
     "status": "completed"
    },
    "tags": []
   },
   "outputs": [
    {
     "data": {
      "text/plain": [
       "age         0\n",
       "sex         0\n",
       "cp          0\n",
       "trestbps    0\n",
       "chol        0\n",
       "fbs         0\n",
       "restecg     0\n",
       "thalach     0\n",
       "exang       0\n",
       "oldpeak     0\n",
       "slope       0\n",
       "ca          0\n",
       "thal        0\n",
       "target      0\n",
       "dtype: int64"
      ]
     },
     "execution_count": 6,
     "metadata": {},
     "output_type": "execute_result"
    }
   ],
   "source": [
    "#Chek missing value\n",
    "data.isnull().sum()"
   ]
  },
  {
   "cell_type": "markdown",
   "id": "streaming-hello",
   "metadata": {
    "papermill": {
     "duration": 0.021568,
     "end_time": "2021-05-23T06:44:13.541476",
     "exception": false,
     "start_time": "2021-05-23T06:44:13.519908",
     "status": "completed"
    },
    "tags": []
   },
   "source": [
    "# Feature Extraction"
   ]
  },
  {
   "cell_type": "code",
   "execution_count": 7,
   "id": "hazardous-house",
   "metadata": {
    "execution": {
     "iopub.execute_input": "2021-05-23T06:44:13.589150Z",
     "iopub.status.busy": "2021-05-23T06:44:13.588474Z",
     "iopub.status.idle": "2021-05-23T06:44:13.644161Z",
     "shell.execute_reply": "2021-05-23T06:44:13.644602Z",
     "shell.execute_reply.started": "2021-05-23T03:45:46.068845Z"
    },
    "papermill": {
     "duration": 0.081291,
     "end_time": "2021-05-23T06:44:13.644779",
     "exception": false,
     "start_time": "2021-05-23T06:44:13.563488",
     "status": "completed"
    },
    "tags": []
   },
   "outputs": [
    {
     "data": {
      "text/html": [
       "<div>\n",
       "<style scoped>\n",
       "    .dataframe tbody tr th:only-of-type {\n",
       "        vertical-align: middle;\n",
       "    }\n",
       "\n",
       "    .dataframe tbody tr th {\n",
       "        vertical-align: top;\n",
       "    }\n",
       "\n",
       "    .dataframe thead th {\n",
       "        text-align: right;\n",
       "    }\n",
       "</style>\n",
       "<table border=\"1\" class=\"dataframe\">\n",
       "  <thead>\n",
       "    <tr style=\"text-align: right;\">\n",
       "      <th></th>\n",
       "      <th>age</th>\n",
       "      <th>sex</th>\n",
       "      <th>cp</th>\n",
       "      <th>trestbps</th>\n",
       "      <th>chol</th>\n",
       "      <th>fbs</th>\n",
       "      <th>restecg</th>\n",
       "      <th>thalach</th>\n",
       "      <th>exang</th>\n",
       "      <th>oldpeak</th>\n",
       "      <th>slope</th>\n",
       "      <th>ca</th>\n",
       "      <th>thal</th>\n",
       "      <th>target</th>\n",
       "    </tr>\n",
       "  </thead>\n",
       "  <tbody>\n",
       "    <tr>\n",
       "      <th>0</th>\n",
       "      <td>3</td>\n",
       "      <td>1</td>\n",
       "      <td>3</td>\n",
       "      <td>2</td>\n",
       "      <td>1</td>\n",
       "      <td>1</td>\n",
       "      <td>0</td>\n",
       "      <td>2</td>\n",
       "      <td>0</td>\n",
       "      <td>2.3</td>\n",
       "      <td>0</td>\n",
       "      <td>0</td>\n",
       "      <td>1</td>\n",
       "      <td>1</td>\n",
       "    </tr>\n",
       "    <tr>\n",
       "      <th>1</th>\n",
       "      <td>0</td>\n",
       "      <td>1</td>\n",
       "      <td>2</td>\n",
       "      <td>1</td>\n",
       "      <td>1</td>\n",
       "      <td>0</td>\n",
       "      <td>1</td>\n",
       "      <td>4</td>\n",
       "      <td>0</td>\n",
       "      <td>3.5</td>\n",
       "      <td>0</td>\n",
       "      <td>0</td>\n",
       "      <td>2</td>\n",
       "      <td>1</td>\n",
       "    </tr>\n",
       "    <tr>\n",
       "      <th>2</th>\n",
       "      <td>1</td>\n",
       "      <td>0</td>\n",
       "      <td>1</td>\n",
       "      <td>1</td>\n",
       "      <td>0</td>\n",
       "      <td>0</td>\n",
       "      <td>0</td>\n",
       "      <td>3</td>\n",
       "      <td>0</td>\n",
       "      <td>1.4</td>\n",
       "      <td>2</td>\n",
       "      <td>0</td>\n",
       "      <td>2</td>\n",
       "      <td>1</td>\n",
       "    </tr>\n",
       "    <tr>\n",
       "      <th>3</th>\n",
       "      <td>2</td>\n",
       "      <td>1</td>\n",
       "      <td>1</td>\n",
       "      <td>1</td>\n",
       "      <td>1</td>\n",
       "      <td>0</td>\n",
       "      <td>1</td>\n",
       "      <td>3</td>\n",
       "      <td>0</td>\n",
       "      <td>0.8</td>\n",
       "      <td>2</td>\n",
       "      <td>0</td>\n",
       "      <td>2</td>\n",
       "      <td>1</td>\n",
       "    </tr>\n",
       "    <tr>\n",
       "      <th>4</th>\n",
       "      <td>2</td>\n",
       "      <td>0</td>\n",
       "      <td>0</td>\n",
       "      <td>1</td>\n",
       "      <td>2</td>\n",
       "      <td>0</td>\n",
       "      <td>1</td>\n",
       "      <td>3</td>\n",
       "      <td>1</td>\n",
       "      <td>0.6</td>\n",
       "      <td>2</td>\n",
       "      <td>0</td>\n",
       "      <td>2</td>\n",
       "      <td>1</td>\n",
       "    </tr>\n",
       "  </tbody>\n",
       "</table>\n",
       "</div>"
      ],
      "text/plain": [
       "   age  sex  cp  trestbps  chol  fbs  restecg  thalach  exang  oldpeak  slope  \\\n",
       "0    3    1   3         2     1    1        0        2      0      2.3      0   \n",
       "1    0    1   2         1     1    0        1        4      0      3.5      0   \n",
       "2    1    0   1         1     0    0        0        3      0      1.4      2   \n",
       "3    2    1   1         1     1    0        1        3      0      0.8      2   \n",
       "4    2    0   0         1     2    0        1        3      1      0.6      2   \n",
       "\n",
       "   ca  thal  target  \n",
       "0   0     1       1  \n",
       "1   0     2       1  \n",
       "2   0     2       1  \n",
       "3   0     2       1  \n",
       "4   0     2       1  "
      ]
     },
     "execution_count": 7,
     "metadata": {},
     "output_type": "execute_result"
    }
   ],
   "source": [
    "#extract the data\n",
    "\n",
    "def extract_data(dataset):\n",
    "\n",
    "    #extract columns 'age'\n",
    "    dataset.loc[ dataset['age'] <= 40, 'age'] = 0\n",
    "    dataset.loc[(dataset['age'] > 40) & (dataset['age'] <= 50), 'age'] = 1\n",
    "    dataset.loc[(dataset['age'] > 50) & (dataset['age'] <= 60), 'age'] = 2\n",
    "    dataset.loc[(dataset['age'] > 60) & (dataset['age'] <= 70), 'age'] = 3\n",
    "    dataset.loc[dataset['age'] > 70,'age'] = 4\n",
    "        \n",
    "    #extract columns 'trestbps'\n",
    "    dataset.loc[ dataset['trestbps'] <= 116, 'trestbps'] = 0\n",
    "    dataset.loc[(dataset['trestbps'] > 116) & (dataset['trestbps'] <= 138), 'trestbps'] = 1\n",
    "    dataset.loc[(dataset['trestbps'] > 138) & (dataset['trestbps'] <= 150), 'trestbps'] = 2\n",
    "    dataset.loc[(dataset['trestbps'] > 150) & (dataset['trestbps'] <= 172), 'trestbps'] = 3\n",
    "    dataset.loc[dataset['trestbps'] > 172,'trestbps'] = 4\n",
    "    \n",
    "    #extract columns 'chol'\n",
    "    dataset.loc[dataset['chol'] <= 214, 'chol'] = 0            \n",
    "    dataset.loc[(dataset['chol'] > 214) & (dataset['chol'] <= 302), 'chol'] = 1      \n",
    "    dataset.loc[(dataset['chol'] > 302) & (dataset['chol'] <= 390), 'chol'] = 2\n",
    "    dataset.loc[(dataset['chol'] > 390) & (dataset['chol'] <= 478), 'chol'] = 3     \n",
    "    dataset.loc[dataset['chol'] > 478,'chol'] = 4\n",
    "    \n",
    "     #extract columns 'thalach'\n",
    "    dataset.loc[ dataset['thalach'] <= 98, 'thalach'] = 0            \n",
    "    dataset.loc[(dataset['thalach'] > 98) & (dataset['thalach'] <= 125), 'thalach'] = 1      \n",
    "    dataset.loc[(dataset['thalach'] > 125) & (dataset['thalach'] <= 152), 'thalach'] = 2\n",
    "    dataset.loc[(dataset['thalach'] > 152) & (dataset['thalach'] <= 179), 'thalach'] = 3     \n",
    "    dataset.loc[dataset['thalach'] > 179,'thalach'] = 4\n",
    "    \n",
    "    return dataset\n",
    "                \n",
    "extract_data(data)\n",
    "data.head()"
   ]
  },
  {
   "cell_type": "markdown",
   "id": "median-litigation",
   "metadata": {
    "papermill": {
     "duration": 0.022631,
     "end_time": "2021-05-23T06:44:13.690627",
     "exception": false,
     "start_time": "2021-05-23T06:44:13.667996",
     "status": "completed"
    },
    "tags": []
   },
   "source": [
    "**Import Train Test Split**"
   ]
  },
  {
   "cell_type": "code",
   "execution_count": 8,
   "id": "static-bedroom",
   "metadata": {
    "execution": {
     "iopub.execute_input": "2021-05-23T06:44:13.742045Z",
     "iopub.status.busy": "2021-05-23T06:44:13.741291Z",
     "iopub.status.idle": "2021-05-23T06:44:13.865155Z",
     "shell.execute_reply": "2021-05-23T06:44:13.864577Z",
     "shell.execute_reply.started": "2021-05-23T03:45:49.592310Z"
    },
    "papermill": {
     "duration": 0.151574,
     "end_time": "2021-05-23T06:44:13.865292",
     "exception": false,
     "start_time": "2021-05-23T06:44:13.713718",
     "status": "completed"
    },
    "tags": []
   },
   "outputs": [],
   "source": [
    "from sklearn.model_selection import train_test_split\n",
    "x = data.iloc[:,:-2]\n",
    "y = data['target']\n",
    "x_train, x_test, y_train, y_test = train_test_split(x, y, test_size = 0.2, random_state = 0)\n"
   ]
  },
  {
   "cell_type": "markdown",
   "id": "secondary-class",
   "metadata": {
    "papermill": {
     "duration": 0.022326,
     "end_time": "2021-05-23T06:44:13.910785",
     "exception": false,
     "start_time": "2021-05-23T06:44:13.888459",
     "status": "completed"
    },
    "tags": []
   },
   "source": [
    "**Train Model  ******"
   ]
  },
  {
   "cell_type": "code",
   "execution_count": 9,
   "id": "fifty-russian",
   "metadata": {
    "execution": {
     "iopub.execute_input": "2021-05-23T06:44:13.969341Z",
     "iopub.status.busy": "2021-05-23T06:44:13.968664Z",
     "iopub.status.idle": "2021-05-23T06:44:14.423094Z",
     "shell.execute_reply": "2021-05-23T06:44:14.422511Z",
     "shell.execute_reply.started": "2021-05-23T03:55:47.964157Z"
    },
    "papermill": {
     "duration": 0.490338,
     "end_time": "2021-05-23T06:44:14.423243",
     "exception": false,
     "start_time": "2021-05-23T06:44:13.932905",
     "status": "completed"
    },
    "tags": []
   },
   "outputs": [
    {
     "name": "stdout",
     "output_type": "stream",
     "text": [
      "Logistic Regression\n",
      "[[20  7]\n",
      " [ 4 30]]\n",
      "Train accuracy is 0.8223140495867769\n",
      "Test accuracy is 0.819672131147541\n",
      "\n",
      " Decision Tree\n",
      "[[16 11]\n",
      " [ 6 28]]\n",
      "Train accuracy is 1.0\n",
      "Test accuracy is 0.7213114754098361\n",
      "\n",
      " Naive Bayes\n",
      "[[19  8]\n",
      " [ 6 28]]\n",
      "Train accuracy is 0.8264462809917356\n",
      "Test accuracy is 0.7704918032786885\n",
      "\n",
      " Random Forest\n",
      "[[19  8]\n",
      " [ 4 30]]\n",
      "Train accuracy is 0.9008264462809917\n",
      "Test accuracy is 0.8032786885245902\n"
     ]
    }
   ],
   "source": [
    "from sklearn.linear_model import LogisticRegression\n",
    "from sklearn import tree\n",
    "from sklearn.naive_bayes import GaussianNB\n",
    "from sklearn.ensemble import RandomForestClassifier\n",
    "from sklearn.metrics import confusion_matrix, accuracy_score\n",
    "\n",
    "def logisticregression(train,test):\n",
    " model = LogisticRegression(random_state=0).fit(train, y_train)\n",
    " y_train_pred = model.predict(train)\n",
    " y_test_pred = model.predict(test) \n",
    " train_score = accuracy_score(y_train, y_train_pred)\n",
    " test_score = accuracy_score(y_test, y_test_pred)\n",
    " matrix = confusion_matrix(y_test, y_test_pred)\n",
    " print('Logistic Regression')\n",
    " print(matrix)\n",
    " print('Train accuracy is',train_score )\n",
    " print('Test accuracy is',test_score )\n",
    "    \n",
    "def decisiontree(train,test):\n",
    " model = tree.DecisionTreeClassifier(criterion = 'entropy')\n",
    " model = model.fit(train,y_train)\n",
    " y_train_pred = model.predict(train)\n",
    " y_test_pred = model.predict(test)\n",
    " train_score = accuracy_score(y_train , y_train_pred)\n",
    " test_score = accuracy_score(y_test, y_test_pred)\n",
    " matrix = confusion_matrix(y_test, y_test_pred)\n",
    " print('\\n','Decision Tree')\n",
    " print(matrix)\n",
    " print('Train accuracy is',train_score )\n",
    " print('Test accuracy is',test_score )\n",
    "    \n",
    "def naivebays(train,test):\n",
    " model = GaussianNB()\n",
    " model = model.fit(train,y_train)\n",
    " y_train_pred = model.predict(train)\n",
    " y_test_pred = model.predict(test)\n",
    " train_score = accuracy_score(y_train , y_train_pred)\n",
    " test_score = accuracy_score(y_test, y_test_pred)\n",
    " matrix = confusion_matrix(y_test, y_test_pred)\n",
    " print('\\n','Naive Bayes')\n",
    " print(matrix)\n",
    " print('Train accuracy is',train_score )\n",
    " print('Test accuracy is',test_score )    \n",
    "    \n",
    "def randomforest(train,test):\n",
    " model = RandomForestClassifier(n_estimators=100,max_depth=4,criterion='gini')\n",
    " model = model.fit(train,y_train)\n",
    " y_train_pred = model.predict(train)\n",
    " y_test_pred = model.predict(test)\n",
    " train_score = accuracy_score(y_train , y_train_pred)\n",
    " test_score = accuracy_score(y_test, y_test_pred)\n",
    " matrix = confusion_matrix(y_test, y_test_pred)\n",
    " print('\\n','Random Forest')\n",
    " print(matrix)\n",
    " print('Train accuracy is',train_score )\n",
    " print('Test accuracy is',test_score )   \n",
    "\n",
    "\n",
    "logisticregression(x_train,x_test)\n",
    "decisiontree(x_train,x_test)\n",
    "naivebays(x_train,x_test)  \n",
    "randomforest(x_train,x_test)"
   ]
  },
  {
   "cell_type": "markdown",
   "id": "atomic-roberts",
   "metadata": {
    "papermill": {
     "duration": 0.022499,
     "end_time": "2021-05-23T06:44:14.469606",
     "exception": false,
     "start_time": "2021-05-23T06:44:14.447107",
     "status": "completed"
    },
    "tags": []
   },
   "source": [
    "Then I use RandomForest because that's highest accuracy."
   ]
  },
  {
   "cell_type": "markdown",
   "id": "restricted-third",
   "metadata": {
    "papermill": {
     "duration": 0.023519,
     "end_time": "2021-05-23T06:44:14.516086",
     "exception": false,
     "start_time": "2021-05-23T06:44:14.492567",
     "status": "completed"
    },
    "tags": []
   },
   "source": [
    "Then I will train model agina with RandomForestClassifier but before I train model,\n",
    "I will optimize parameters by using GridSearchCV."
   ]
  }
 ],
 "metadata": {
  "kernelspec": {
   "display_name": "Python 3",
   "language": "python",
   "name": "python3"
  },
  "language_info": {
   "codemirror_mode": {
    "name": "ipython",
    "version": 3
   },
   "file_extension": ".py",
   "mimetype": "text/x-python",
   "name": "python",
   "nbconvert_exporter": "python",
   "pygments_lexer": "ipython3",
   "version": "3.7.10"
  },
  "papermill": {
   "default_parameters": {},
   "duration": 13.778379,
   "end_time": "2021-05-23T06:44:15.889225",
   "environment_variables": {},
   "exception": null,
   "input_path": "__notebook__.ipynb",
   "output_path": "__notebook__.ipynb",
   "parameters": {},
   "start_time": "2021-05-23T06:44:02.110846",
   "version": "2.3.3"
  }
 },
 "nbformat": 4,
 "nbformat_minor": 5
}
